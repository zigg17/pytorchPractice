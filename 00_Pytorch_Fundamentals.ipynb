{
  "nbformat": 4,
  "nbformat_minor": 0,
  "metadata": {
    "colab": {
      "provenance": [],
      "collapsed_sections": [
        "0hUFoBOMfsfn",
        "2ET0PmSDilHG"
      ],
      "gpuType": "T4",
      "authorship_tag": "ABX9TyPumtjQqRmt3eb95zLLxMbt",
      "include_colab_link": true
    },
    "kernelspec": {
      "name": "python3",
      "display_name": "Python 3"
    },
    "language_info": {
      "name": "python"
    },
    "accelerator": "GPU"
  },
  "cells": [
    {
      "cell_type": "markdown",
      "metadata": {
        "id": "view-in-github",
        "colab_type": "text"
      },
      "source": [
        "<a href=\"https://colab.research.google.com/github/zigg17/PytorchPractice/blob/main/00_Pytorch_Fundamentals.ipynb\" target=\"_parent\"><img src=\"https://colab.research.google.com/assets/colab-badge.svg\" alt=\"Open In Colab\"/></a>"
      ]
    },
    {
      "cell_type": "markdown",
      "source": [
        "# **00 Pytorch Fundamentals**\n",
        "\n",
        "Textbook Resource: https://www.learnpytorch.io/00_pytorch_fundamentals/\n",
        "\n",
        "Started: 1/5/23\n",
        "\n",
        "Ended:\n",
        "\n",
        "---\n",
        "\n"
      ],
      "metadata": {
        "id": "MMziNO77qVQ5"
      }
    },
    {
      "cell_type": "markdown",
      "source": [
        "# **Notes:**\n",
        "**3 big errors in PyTorch code:**\n",
        "\n",
        "\n",
        "1.   Incorrect device\n",
        "2.   Incorrect datatype\n",
        "3.   Incorrect Shape\n",
        "\n",
        "**Random numbers:**\n",
        "\n",
        "\n",
        "*   `torch.randint(low= a, high= b, size= (x,y,z))` to create a tensor with random integers.\n",
        "*   `torch.rand(size=(x,y,z))` to create a tensor with random float32 numbers ranging between 0 and 1.\n",
        "\n",
        "**Range:**\n",
        "\n",
        "\n",
        "*   `torch.arange(start= x, end= y, step= z)` to create a 1D tensor with a range of numbers and specefied set of steps. Remember that the bounds are inclusive at start but not inclusive at end.\n",
        "\n",
        "**Tensor Ops:**\n",
        "* Addition\n",
        "* Subtraction\n",
        "* Matrix multiplication\n",
        "* Element-wise multiplication\n",
        "* Division\n",
        "\n",
        "\n",
        "**Matrix Multiplication:**\n",
        "* There are two ways to perform multiplication on tensors, element-wise and matrix multiplication.\n",
        "* Element wise is multiplying each element by a specefic number.\n",
        "* Matrix multiplication can be considered a dot product as well multiply row of first tensor by first column and then next column and iterate through both matrices.\n",
        "* `torch.matmul(1st,2nd)` will perform the matrix multiplication necessary.\n",
        "* tensor @ tensor also does matrix multiplication as well.\n",
        "* If theres an imbalance but the numbers of the matrices need to be flipped in order for matrix multiplication to occur, then we use `tensor.T`.\n",
        "\n",
        "**Reproducibility**\n",
        "* Reproducibility = taking the random out of random.\n",
        "* Random seed, an operation that allows for \"the randomness to be flavored\".\n",
        "* `torch.manual_seed(RANDOM_SEED)` works to flavor your tensors in PyTorch. They only work for one block of code so they must be reintroduced everytime theres another `torch.rand()` call to maintain reproducibility.\n",
        "* Oh and just set `RANDOM_NUMBER = x` to create a seed to be used throughout the doc.\n",
        "\n",
        "\n",
        "\n",
        "\n",
        "\n",
        "---\n",
        "\n",
        "\n",
        "\n"
      ],
      "metadata": {
        "id": "zg0i2s24riNG"
      }
    },
    {
      "cell_type": "markdown",
      "source": [
        "# **Tensor Creation: Ones, Zeros, and Like Tensors**\n",
        "\n",
        "---\n",
        "\n"
      ],
      "metadata": {
        "id": "0hUFoBOMfsfn"
      }
    },
    {
      "cell_type": "code",
      "source": [
        "import torch\n",
        "import pandas as pd\n",
        "import numpy as np\n",
        "import matplotlib.pyplot as plt\n",
        "import math\n",
        "\n",
        "print(\"We are running Pytorch version: \" + torch.__version__ + \"\\n\")\n",
        "\n",
        "## Ones\n",
        "print(\"Ones example:\")\n",
        "ones = torch.ones(4,5)\n",
        "print(ones)\n",
        "print(\"\\n\")\n",
        "\n",
        "## Zeros\n",
        "print(\"Zeros example:\")\n",
        "zeros = torch.zeros(2,3)\n",
        "print(zeros)\n",
        "print(\"\\n\")\n",
        "\n",
        "## Random\n",
        "print(\"Random example:\")\n",
        "rando = torch.rand(3,2,2)\n",
        "print(rando)\n",
        "print(\"\\n\")\n",
        "\n",
        "## Tensors like\n",
        "print(\"Ones to rand:\")\n",
        "randoOne = torch.rand_like(ones)\n",
        "print(randoOne)\n",
        "print(\"\\n\")\n",
        "\n",
        "print(\"rand to ones:\")\n",
        "randoToOne = torch.ones_like(rando)\n",
        "print(randoToOne)\n",
        "print(\"\\n\")\n",
        "\n"
      ],
      "metadata": {
        "colab": {
          "base_uri": "https://localhost:8080/"
        },
        "id": "jYednILyqgrk",
        "outputId": "0c113722-7dba-48eb-d8e4-998c7f15a420"
      },
      "execution_count": null,
      "outputs": [
        {
          "output_type": "stream",
          "name": "stdout",
          "text": [
            "We are running Pytorch version: 2.1.0+cu121\n",
            "\n",
            "Ones example:\n",
            "tensor([[1., 1., 1., 1., 1.],\n",
            "        [1., 1., 1., 1., 1.],\n",
            "        [1., 1., 1., 1., 1.],\n",
            "        [1., 1., 1., 1., 1.]])\n",
            "\n",
            "\n",
            "Zeros example:\n",
            "tensor([[0., 0., 0.],\n",
            "        [0., 0., 0.]])\n",
            "\n",
            "\n",
            "Random example:\n",
            "tensor([[[0.6557, 0.0346],\n",
            "         [0.1254, 0.1755]],\n",
            "\n",
            "        [[0.9253, 0.1913],\n",
            "         [0.9992, 0.2844]],\n",
            "\n",
            "        [[0.8739, 0.6702],\n",
            "         [0.6698, 0.4345]]])\n",
            "\n",
            "\n",
            "Ones to rand:\n",
            "tensor([[7.9437e-01, 4.9230e-02, 8.7482e-01, 6.6707e-01, 4.0600e-01],\n",
            "        [6.0365e-01, 3.3777e-01, 1.6320e-01, 3.3330e-01, 9.9907e-01],\n",
            "        [3.0754e-01, 9.7447e-01, 3.1942e-04, 7.5642e-01, 7.3056e-01],\n",
            "        [7.3854e-01, 7.3579e-01, 8.3781e-01, 8.1873e-01, 5.1648e-01]])\n",
            "\n",
            "\n",
            "rand to ones:\n",
            "tensor([[[1., 1.],\n",
            "         [1., 1.]],\n",
            "\n",
            "        [[1., 1.],\n",
            "         [1., 1.]],\n",
            "\n",
            "        [[1., 1.],\n",
            "         [1., 1.]]])\n",
            "\n",
            "\n"
          ]
        }
      ]
    },
    {
      "cell_type": "markdown",
      "source": [
        "# **Tensor Creation: Ranged Tensors, Data Type, and Device**\n",
        "\n",
        "---\n",
        "\n"
      ],
      "metadata": {
        "id": "2ET0PmSDilHG"
      }
    },
    {
      "cell_type": "code",
      "source": [
        "import torch\n",
        "import pandas as pd\n",
        "import numpy as np\n",
        "import matplotlib.pyplot as plt\n",
        "import math\n",
        "\n",
        "print(\"We are running Pytorch version: \" + torch.__version__ + \"\\n\")\n",
        "\n",
        "## For creating a tensor of random integers within a specified range\n",
        "print(\"Random int creation:\")\n",
        "tensorInt = torch.randint(low=0, high= 1000, size= (2,3,3))\n",
        "print(tensorInt.dtype)\n",
        "print(\"\\n\")\n",
        "print(tensorInt)\n",
        "print(\"\\n\")\n",
        "\n",
        "## For creating a stepping basis for tensors\n",
        "print(\"Range creation:\")\n",
        "step = torch.arange(start= 0, end= 21, step= 5)\n",
        "print(step)\n",
        "print(\"\\n\")\n",
        "\n",
        "## Playing around\n",
        "print(\"Multiplication:\")\n",
        "tensorInt2 = torch.randint(low= 0, high= 1000, size= (2,3,3))\n",
        "tensorInt3 = tensorInt * tensorInt2\n",
        "print(tensorInt3)\n",
        "print(\"\\n\")\n",
        "\n",
        "## Device alteratation\n",
        "print(\"GPU tensor:\")\n",
        "gpuTensor = torch.rand(size= (3,3,2), device= 'cuda')\n",
        "print(gpuTensor)"
      ],
      "metadata": {
        "colab": {
          "base_uri": "https://localhost:8080/"
        },
        "id": "HEgIziPAjLej",
        "outputId": "aeea7c20-4340-4991-e218-d3d9c6bd19ff"
      },
      "execution_count": null,
      "outputs": [
        {
          "output_type": "stream",
          "name": "stdout",
          "text": [
            "We are running Pytorch version: 2.1.0+cu121\n",
            "\n",
            "Random int creation:\n",
            "torch.int64\n",
            "\n",
            "\n",
            "tensor([[[175, 952, 579],\n",
            "         [322, 303, 828],\n",
            "         [845, 846, 784]],\n",
            "\n",
            "        [[816, 215, 363],\n",
            "         [733, 692, 722],\n",
            "         [716, 373, 952]]])\n",
            "\n",
            "\n",
            "Range creation:\n",
            "tensor([ 0,  5, 10, 15, 20])\n",
            "\n",
            "\n",
            "Multiplication:\n",
            "tensor([[[ 72975, 758744,  11001],\n",
            "         [129444, 159378, 510048],\n",
            "         [654030, 364626, 227360]],\n",
            "\n",
            "        [[146064,  25370,  68607],\n",
            "         [362835, 489244, 697452],\n",
            "         [692372, 261100, 931056]]])\n",
            "\n",
            "\n",
            "GPU tensor:\n",
            "tensor([[[0.0759, 0.1828],\n",
            "         [0.0707, 0.2284],\n",
            "         [0.5194, 0.5232]],\n",
            "\n",
            "        [[0.2544, 0.4215],\n",
            "         [0.2728, 0.7128],\n",
            "         [0.9181, 0.9457]],\n",
            "\n",
            "        [[0.6733, 0.3586],\n",
            "         [0.4047, 0.4210],\n",
            "         [0.5171, 0.9573]]], device='cuda:0')\n",
            "1 CUDA device(s) available.\n",
            "Device 0: Tesla T4\n"
          ]
        }
      ]
    },
    {
      "cell_type": "markdown",
      "source": [
        "# **Tensor Ops: Addition, Scalar Multiplication, and Element-wise Multiplication**\n",
        "\n",
        "\n",
        "---\n",
        "\n"
      ],
      "metadata": {
        "id": "WQuZ3r80FZRO"
      }
    },
    {
      "cell_type": "code",
      "source": [
        "import torch\n",
        "import pandas as pd\n",
        "import numpy as np\n",
        "import matplotlib.pyplot as plt\n",
        "import math\n",
        "\n",
        "## Creation\n",
        "print(\"Original:\")\n",
        "tensor = torch.randint(size= (2,2,3), device= 'cuda', low= 1, high= 10)\n",
        "print(tensor)\n",
        "print(\"\\n\")\n",
        "\n",
        "## Addition\n",
        "print(\"Addition plus 1:\")\n",
        "tensorAdd = tensor + 1\n",
        "print(tensorAdd)\n",
        "print(\"\\n\")\n",
        "\n",
        "## Scalar multiplication\n",
        "print(\"Multiplication times 2:\")\n",
        "tensorMult = tensor * 2\n",
        "print(tensorMult)\n",
        "print(\"\\n\")\n",
        "\n",
        "## Element multiplication\n",
        "print(\"Multiplication of two tensors:\")\n",
        "tensorSquare = tensor * tensor\n",
        "print(tensorSquare)\n",
        "print(\"\\n\")"
      ],
      "metadata": {
        "colab": {
          "base_uri": "https://localhost:8080/"
        },
        "id": "llc_zfchFgMr",
        "outputId": "55748166-6ec6-483f-c23b-10e28e725500"
      },
      "execution_count": null,
      "outputs": [
        {
          "output_type": "stream",
          "name": "stdout",
          "text": [
            "Original:\n",
            "tensor([[[7, 6, 5],\n",
            "         [3, 4, 2]],\n",
            "\n",
            "        [[3, 8, 7],\n",
            "         [8, 4, 9]]], device='cuda:0')\n",
            "\n",
            "\n",
            "Addition plus 1:\n",
            "tensor([[[ 8,  7,  6],\n",
            "         [ 4,  5,  3]],\n",
            "\n",
            "        [[ 4,  9,  8],\n",
            "         [ 9,  5, 10]]], device='cuda:0')\n",
            "\n",
            "\n",
            "Multiplication times 2:\n",
            "tensor([[[14, 12, 10],\n",
            "         [ 6,  8,  4]],\n",
            "\n",
            "        [[ 6, 16, 14],\n",
            "         [16,  8, 18]]], device='cuda:0')\n",
            "\n",
            "\n",
            "Multiplication of two tensors:\n",
            "tensor([[[49, 36, 25],\n",
            "         [ 9, 16,  4]],\n",
            "\n",
            "        [[ 9, 64, 49],\n",
            "         [64, 16, 81]]], device='cuda:0')\n",
            "\n",
            "\n"
          ]
        }
      ]
    },
    {
      "cell_type": "markdown",
      "source": [
        "# **Tensor Ops: Matrix Multiplication and Transpostion**\n",
        "\n",
        "\n",
        "---\n",
        "\n"
      ],
      "metadata": {
        "id": "wucfaWguJS9p"
      }
    },
    {
      "cell_type": "code",
      "source": [
        "import torch\n",
        "import pandas as pd\n",
        "import numpy as np\n",
        "import matplotlib.pyplot as plt\n",
        "import math\n",
        "\n",
        "print(\"We are running Pytorch version: \" + torch.__version__ + \"\\n\")\n",
        "\n",
        "print(\"3x2:\")\n",
        "tensor1 = torch.rand(size= (3,2))\n",
        "print(tensor1)\n",
        "print(\"\\n\")\n",
        "\n",
        "print(\"3x2, 2:\")\n",
        "tensor2 = torch.rand(size= (3,2))\n",
        "print(tensor2)\n",
        "print(\"\\n\")\n",
        "\n",
        "## .T flips the tensors dimensions\n",
        "print(\"3x2, 2, transposed:\")\n",
        "tensor2 = tensor2.T\n",
        "print(tensor2)\n",
        "print(\"\\n\")\n",
        "print(\"Essentially flip the tensor 90 degrees clockwise.\")\n",
        "print(\"\\n\")\n",
        "\n",
        "tensorFinal = torch.matmul(tensor1,tensor2)\n",
        "print(\"Matrix multiplication 3x2 and 2x3:\")\n",
        "print(tensorFinal)\n",
        "\n",
        "\n"
      ],
      "metadata": {
        "colab": {
          "base_uri": "https://localhost:8080/"
        },
        "id": "z0c8mPu1Jbp6",
        "outputId": "ba43b8fc-96dc-4921-8f63-5d9d101ed13d"
      },
      "execution_count": null,
      "outputs": [
        {
          "output_type": "stream",
          "name": "stdout",
          "text": [
            "We are running Pytorch version: 2.1.0+cu121\n",
            "\n",
            "3x2:\n",
            "tensor([[0.7200, 0.7450],\n",
            "        [0.2069, 0.5289],\n",
            "        [0.5482, 0.7395]])\n",
            "\n",
            "\n",
            "3x2, 2:\n",
            "tensor([[0.8343, 0.5153],\n",
            "        [0.6467, 0.4505],\n",
            "        [0.2080, 0.0444]])\n",
            "\n",
            "\n",
            "3x2, 2, transposed:\n",
            "tensor([[0.8343, 0.6467, 0.2080],\n",
            "        [0.5153, 0.4505, 0.0444]])\n",
            "\n",
            "\n",
            "Essentially flip the tensor 90 degrees clockwise.\n",
            "\n",
            "\n",
            "Matrix multiplication 3x2 and 2x3:\n",
            "tensor([[0.9845, 0.8012, 0.1829],\n",
            "        [0.4451, 0.3720, 0.0665],\n",
            "        [0.8384, 0.6877, 0.1469]])\n"
          ]
        }
      ]
    },
    {
      "cell_type": "markdown",
      "source": [
        "# **Tensor Ops: Mean, Sum, Min, Max**\n",
        "\n",
        "---\n",
        "\n"
      ],
      "metadata": {
        "id": "_5enkESEWeDH"
      }
    },
    {
      "cell_type": "code",
      "source": [
        "import torch\n",
        "import pandas as pd\n",
        "import numpy as np\n",
        "import matplotlib.pyplot as plt\n",
        "import math\n",
        "\n",
        "print(\"We are running Pytorch version: \" + torch.__version__ + \"\\n\")\n",
        "\n",
        "tensor = torch.rand(size= (3,3))\n",
        "print(\"Tensor:\")\n",
        "print(tensor)\n",
        "print(\"\\n\")\n",
        "\n",
        "print(\"Max element:\")\n",
        "print(tensor.max())\n",
        "print(\"\\n\")\n",
        "\n",
        "print(\"Min element:\")\n",
        "print(tensor.min())\n",
        "print(\"\\n\")\n",
        "\n",
        "print(\"Mean:\")\n",
        "print(tensor.mean())\n",
        "print(\"\\n\")\n",
        "\n",
        "print(\"Sum:\")\n",
        "print(tensor.sum())\n",
        "print(\"\\n\")\n",
        "\n",
        "print(\"All of these return an important value, and its always a single element.\")"
      ],
      "metadata": {
        "colab": {
          "base_uri": "https://localhost:8080/"
        },
        "id": "WanU4kWOWy50",
        "outputId": "8c54b1b3-2f60-49ec-b59b-7c7590aa8283"
      },
      "execution_count": null,
      "outputs": [
        {
          "output_type": "stream",
          "name": "stdout",
          "text": [
            "We are running Pytorch version: 2.1.0+cu121\n",
            "\n",
            "Tensor:\n",
            "tensor([[0.6566, 0.0494, 0.1148],\n",
            "        [0.6809, 0.5548, 0.2198],\n",
            "        [0.7153, 0.8874, 0.5844]])\n",
            "\n",
            "\n",
            "Max element:\n",
            "tensor(0.8874)\n",
            "\n",
            "\n",
            "Min element:\n",
            "tensor(0.0494)\n",
            "\n",
            "\n",
            "Mean:\n",
            "tensor(0.4959)\n",
            "\n",
            "\n",
            "Sum:\n",
            "tensor(4.4635)\n",
            "\n",
            "\n",
            "All of these return an important value, and its always a single element\n"
          ]
        }
      ]
    },
    {
      "cell_type": "markdown",
      "source": [
        "# **Tensor Ops: Argmin, Argmax**\n",
        "\n",
        "---\n",
        "\n"
      ],
      "metadata": {
        "id": "lkwt4ZJ7alOp"
      }
    },
    {
      "cell_type": "code",
      "source": [
        "import torch\n",
        "import pandas as pd\n",
        "import numpy as np\n",
        "import matplotlib.pyplot as plt\n",
        "import math\n",
        "\n",
        "tensor = torch.rand(3,4)\n",
        "print(\"Tensor:\")\n",
        "print(tensor)\n",
        "print(\"\\n\")\n",
        "\n",
        "print(\"Index of smallest:\")\n",
        "print(tensor.argmin())\n",
        "print(\"\\n\")\n",
        "\n",
        "print(\"Index of largest:\")\n",
        "print(tensor.argmax())\n",
        "print(\"\\n\")"
      ],
      "metadata": {
        "id": "SGudmnkia3hy",
        "colab": {
          "base_uri": "https://localhost:8080/"
        },
        "outputId": "9522aa7a-b112-4f89-ebf8-7871a9923513"
      },
      "execution_count": null,
      "outputs": [
        {
          "output_type": "stream",
          "name": "stdout",
          "text": [
            "Tensor:\n",
            "tensor([[0.5672, 0.1285, 0.6291, 0.5951],\n",
            "        [0.2599, 0.8713, 0.6343, 0.7837],\n",
            "        [0.5994, 0.0837, 0.9192, 0.8588]])\n",
            "\n",
            "\n",
            "Index of smallest:\n",
            "tensor(9)\n",
            "\n",
            "\n",
            "Index of largest:\n",
            "tensor(10)\n",
            "\n",
            "\n"
          ]
        }
      ]
    },
    {
      "cell_type": "markdown",
      "source": [
        "# **Tensor Ops: Reshaping, View, and Stacking**\n",
        "\n",
        "---\n",
        "\n"
      ],
      "metadata": {
        "id": "4NnBJrbYh96d"
      }
    },
    {
      "cell_type": "code",
      "source": [
        "import torch\n",
        "import pandas as pd\n",
        "import numpy as np\n",
        "import matplotlib.pyplot as plt\n",
        "import math\n",
        "\n",
        "tensor = torch.arange(start=0, end= 11, step= 1)\n",
        "print(\"Intial tensor:\")\n",
        "print(tensor)\n",
        "print(\"\\n\")\n",
        "\n",
        "print(\"Reshaped tensor:\")\n",
        "print(tensor.reshape(11,1))\n",
        "print(\"\\n\")\n",
        "\n",
        "## I have no idea what the fuck is going on with view other than it\n",
        "## creates a new variable. That shares the same mem space? Like wat?\n",
        "## I just need to look into documentation and further examples\n",
        "\n",
        "## dim= 1 alters the way things concatenate, it flips them to vertical and\n",
        "## concatenates them horizontally, dim= 0 keeps the original stack and\n",
        "## stacks vertically\n",
        "stacked = torch.stack([tensor, tensor], dim= 0)\n",
        "print(\"Stacked tensor (based off of initial):\")\n",
        "print(stacked)"
      ],
      "metadata": {
        "colab": {
          "base_uri": "https://localhost:8080/"
        },
        "id": "H8qZab0riReQ",
        "outputId": "0b19c638-87a8-4dde-fe5f-c4c6535da298"
      },
      "execution_count": null,
      "outputs": [
        {
          "output_type": "stream",
          "name": "stdout",
          "text": [
            "Intial tensor:\n",
            "tensor([ 0,  1,  2,  3,  4,  5,  6,  7,  8,  9, 10])\n",
            "\n",
            "\n",
            "Reshaped tensor:\n",
            "tensor([[ 0],\n",
            "        [ 1],\n",
            "        [ 2],\n",
            "        [ 3],\n",
            "        [ 4],\n",
            "        [ 5],\n",
            "        [ 6],\n",
            "        [ 7],\n",
            "        [ 8],\n",
            "        [ 9],\n",
            "        [10]])\n",
            "\n",
            "\n",
            "Stacked tensor (based off of initial):\n",
            "tensor([[ 0,  1,  2,  3,  4,  5,  6,  7,  8,  9, 10],\n",
            "        [ 0,  1,  2,  3,  4,  5,  6,  7,  8,  9, 10]])\n"
          ]
        }
      ]
    },
    {
      "cell_type": "markdown",
      "source": [
        "# **Tensor Ops: Squeezing and Unsqueezing**\n",
        "\n",
        "---\n",
        "\n"
      ],
      "metadata": {
        "id": "qMev87apiR_B"
      }
    },
    {
      "cell_type": "code",
      "source": [
        "import torch\n",
        "import pandas as pd\n",
        "import numpy as np\n",
        "import matplotlib.pyplot as plt\n",
        "import math\n",
        "\n",
        "tensor = torch.rand(3,1)\n",
        "print(\"Presqueeze:\")\n",
        "print(tensor)\n",
        "print(\"\\n\")\n",
        "\n",
        "tensor = tensor.squeeze()\n",
        "print(\"Postsqueeze:\")\n",
        "print(tensor)\n",
        "print(\"\\n\")\n",
        "\n",
        "for i in range(3):\n",
        "  tensor = tensor.unsqueeze(dim= 1)\n",
        "print(\"Resqueeze: 3 times vertically:\")\n",
        "print(tensor)\n",
        "print(\"\\n\")"
      ],
      "metadata": {
        "colab": {
          "base_uri": "https://localhost:8080/"
        },
        "id": "9I-b-r0MioBa",
        "outputId": "52c4efa7-29ea-478e-9ba2-2617ee9eddd6"
      },
      "execution_count": null,
      "outputs": [
        {
          "output_type": "stream",
          "name": "stdout",
          "text": [
            "Presqueeze:\n",
            "tensor([[0.1575],\n",
            "        [0.5267],\n",
            "        [0.6593]])\n",
            "\n",
            "\n",
            "Postsqueeze:\n",
            "tensor([0.1575, 0.5267, 0.6593])\n",
            "\n",
            "\n",
            "Resqueeze:\n",
            "tensor([[[[0.1575]]],\n",
            "\n",
            "\n",
            "        [[[0.5267]]],\n",
            "\n",
            "\n",
            "        [[[0.6593]]]])\n",
            "\n",
            "\n"
          ]
        }
      ]
    },
    {
      "cell_type": "markdown",
      "source": [
        "# **Tensor Ops: Permuting and Indexing**\n",
        "\n",
        "\n",
        "---\n",
        "\n"
      ],
      "metadata": {
        "id": "bt5YuroOZJ4M"
      }
    },
    {
      "cell_type": "code",
      "source": [
        "import torch\n",
        "import pandas as pd\n",
        "import numpy as np\n",
        "import matplotlib.pyplot as plt\n",
        "import math\n",
        "\n",
        "tensor = torch.rand(3,2,2)\n",
        "print(\"Orig tensor:\")\n",
        "print(tensor)\n",
        "print(tensor.shape)\n",
        "print(\"\\n\")\n",
        "\n",
        "tensor1 = tensor.permute(2,0,1)\n",
        "print(\"Permuted tensor:\")\n",
        "print(tensor1)\n",
        "print(tensor1.shape)\n",
        "print(\"\\n\")\n",
        "\n",
        "manip = torch.arange(1,10).reshape(1,3,3)\n",
        "print(manip)\n",
        "print(\"\\n\")\n",
        "print(f\"[0][0] = {manip[0][0]}, [0][0][0] = {manip[0][0][0]}\")\n",
        "print(\"\\n\")\n",
        "print(f\"Accessing 9: {manip[0][2][2]}, Accessing column: {manip[:, :, 2]}\")\n",
        "## Swith to full brackets with commas as it allows for the incorporation\n",
        "## of semi-colons, maybe use multi squares for iterations"
      ],
      "metadata": {
        "colab": {
          "base_uri": "https://localhost:8080/"
        },
        "id": "wX2vJbTiZViq",
        "outputId": "3268db88-eb9e-4dd9-8677-a1f046740c3f"
      },
      "execution_count": null,
      "outputs": [
        {
          "output_type": "stream",
          "name": "stdout",
          "text": [
            "Orig tensor:\n",
            "tensor([[[0.5551, 0.3308],\n",
            "         [0.8562, 0.8448]],\n",
            "\n",
            "        [[0.8906, 0.3898],\n",
            "         [0.3239, 0.5547]],\n",
            "\n",
            "        [[0.0058, 0.3371],\n",
            "         [0.0835, 0.9432]]])\n",
            "torch.Size([3, 2, 2])\n",
            "\n",
            "\n",
            "Permuted tensor:\n",
            "tensor([[[0.5551, 0.8562],\n",
            "         [0.8906, 0.3239],\n",
            "         [0.0058, 0.0835]],\n",
            "\n",
            "        [[0.3308, 0.8448],\n",
            "         [0.3898, 0.5547],\n",
            "         [0.3371, 0.9432]]])\n",
            "torch.Size([2, 3, 2])\n",
            "\n",
            "\n",
            "tensor([[[1, 2, 3],\n",
            "         [4, 5, 6],\n",
            "         [7, 8, 9]]])\n",
            "\n",
            "\n",
            "[0][0] = tensor([1, 2, 3]), [0][0][0] = 1\n",
            "\n",
            "\n",
            "Accessing 9: 9, Accerssing row: tensor([[3, 6, 9]])\n"
          ]
        }
      ]
    },
    {
      "cell_type": "markdown",
      "source": [
        "# **Tensor Ops: To and From NumPy**\n",
        "\n",
        "---\n",
        "\n"
      ],
      "metadata": {
        "id": "NYJuexE-nckg"
      }
    },
    {
      "cell_type": "code",
      "source": [
        "import torch\n",
        "import pandas as pd\n",
        "import numpy as np\n",
        "import matplotlib.pyplot as plt\n",
        "import math\n",
        "\n",
        "print(\"Numpy to PyTorch:\")\n",
        "array = np.arange(1.0, 8.0)\n",
        "tensor = torch.from_numpy(array)\n",
        "print(tensor)\n",
        "print(\"\\n\")\n",
        "print(tensor.dtype)\n",
        "print(\"\\n\")\n",
        "\n",
        "print(\"Pytorch to NumPy:\")\n",
        "tensor = torch.ones(7)\n",
        "numpyTensor = tensor.numpy()\n",
        "print(numpyTensor)\n",
        "print(\"\\n\")\n",
        "print(numpyTensor.dtype)"
      ],
      "metadata": {
        "colab": {
          "base_uri": "https://localhost:8080/"
        },
        "id": "fPGm5XQgnjOR",
        "outputId": "bd4bac2e-af48-4544-e732-70d84df54a0b"
      },
      "execution_count": null,
      "outputs": [
        {
          "output_type": "stream",
          "name": "stdout",
          "text": [
            "Numpy to PyTorch:\n",
            "tensor([1., 2., 3., 4., 5., 6., 7.], dtype=torch.float64)\n",
            "\n",
            "\n",
            "torch.float64\n",
            "\n",
            "\n",
            "Pytorch to NumPy:\n",
            "[1. 1. 1. 1. 1. 1. 1.]\n",
            "\n",
            "\n",
            "float32\n"
          ]
        }
      ]
    },
    {
      "cell_type": "markdown",
      "source": [
        "# **Tensor Reproducibility:**\n",
        "\n",
        "---\n",
        "\n"
      ],
      "metadata": {
        "id": "lZdocdvxn-Nv"
      }
    },
    {
      "cell_type": "code",
      "source": [
        "import torch\n",
        "import pandas as pd\n",
        "import numpy as np\n",
        "import matplotlib.pyplot as plt\n",
        "import math\n",
        "\n",
        "RANDOM_SEED = 69\n",
        "\n",
        "torch.manual_seed(RANDOM_SEED)\n",
        "brother = torch.rand(2,3)\n",
        "\n",
        "torch.manual_seed(RANDOM_SEED)\n",
        "brother1 = torch.rand(2,3)\n",
        "\n",
        "print(brother)\n",
        "print(brother1)\n",
        "print(brother == brother1)\n",
        "print(\"\\nAYOOOO\")"
      ],
      "metadata": {
        "colab": {
          "base_uri": "https://localhost:8080/"
        },
        "id": "aKE6iXxKoCz8",
        "outputId": "e4a5bfcd-fb3f-46bd-f4ae-f85818eccc8d"
      },
      "execution_count": null,
      "outputs": [
        {
          "output_type": "stream",
          "name": "stdout",
          "text": [
            "tensor([[0.8398, 0.8042, 0.1213],\n",
            "        [0.5309, 0.6646, 0.4077]])\n",
            "tensor([[0.8398, 0.8042, 0.1213],\n",
            "        [0.5309, 0.6646, 0.4077]])\n",
            "tensor([[True, True, True],\n",
            "        [True, True, True]])\n",
            "\n",
            "AYOOOO\n"
          ]
        }
      ]
    },
    {
      "cell_type": "markdown",
      "source": [
        "# **Accessing the GPU**\n",
        "\n",
        "---\n",
        "\n"
      ],
      "metadata": {
        "id": "dDhcv5SsxkFE"
      }
    },
    {
      "cell_type": "code",
      "source": [
        "import torch\n",
        "import pandas as pd\n",
        "import numpy as np\n",
        "import matplotlib.pyplot as plt\n",
        "import math\n",
        "\n",
        "device = \"cuda\" if torch.cuda.is_available() else \"cpu\"\n",
        "\n",
        "tensor = torch.rand(3,2)\n",
        "print(tensor.device)\n",
        "gpuTensor = tensor.to(device)\n",
        "print(gpuTensor.device)\n"
      ],
      "metadata": {
        "colab": {
          "base_uri": "https://localhost:8080/"
        },
        "id": "Enrrcg2ix86Y",
        "outputId": "74a7c0e0-7384-444c-f6f7-c258f87056da"
      },
      "execution_count": null,
      "outputs": [
        {
          "output_type": "stream",
          "name": "stdout",
          "text": [
            "cpu\n",
            "cuda:0\n"
          ]
        }
      ]
    },
    {
      "cell_type": "markdown",
      "source": [
        "# **Trash Throwaway**\n",
        "\n",
        "---\n",
        "\n"
      ],
      "metadata": {
        "id": "S3sxOVa7cyyR"
      }
    },
    {
      "cell_type": "code",
      "source": [
        "import torch\n",
        "import pandas as pd\n",
        "import numpy as np\n",
        "import matplotlib.pyplot as plt\n",
        "import math\n",
        "\n",
        "tensor = torch.rand(3,2,2)\n",
        "permutation = tensor.permute(2,0,1)\n",
        "print(tensor)\n",
        "print(\"\\n\")\n",
        "print(permutation)\n",
        "print(\"\\n\")\n",
        "\n",
        "tensor[0,0,0] = 69420\n",
        "print(tensor)\n",
        "print(\"\\n\")\n",
        "print(permutation)\n",
        "print(\"\\n\")"
      ],
      "metadata": {
        "colab": {
          "base_uri": "https://localhost:8080/"
        },
        "id": "WdXwkHm1c3EN",
        "outputId": "dea6d3bb-0e24-4375-d701-5a2941854217"
      },
      "execution_count": null,
      "outputs": [
        {
          "output_type": "stream",
          "name": "stdout",
          "text": [
            "tensor([[[0.2330, 0.4851],\n",
            "         [0.3645, 0.6096]],\n",
            "\n",
            "        [[0.5281, 0.8748],\n",
            "         [0.3867, 0.0591]],\n",
            "\n",
            "        [[0.3284, 0.2940],\n",
            "         [0.4924, 0.2687]]])\n",
            "\n",
            "\n",
            "tensor([[[0.2330, 0.3645],\n",
            "         [0.5281, 0.3867],\n",
            "         [0.3284, 0.4924]],\n",
            "\n",
            "        [[0.4851, 0.6096],\n",
            "         [0.8748, 0.0591],\n",
            "         [0.2940, 0.2687]]])\n",
            "\n",
            "\n",
            "tensor([[[6.9420e+04, 4.8510e-01],\n",
            "         [3.6455e-01, 6.0964e-01]],\n",
            "\n",
            "        [[5.2806e-01, 8.7478e-01],\n",
            "         [3.8665e-01, 5.9135e-02]],\n",
            "\n",
            "        [[3.2836e-01, 2.9402e-01],\n",
            "         [4.9239e-01, 2.6872e-01]]])\n",
            "\n",
            "\n",
            "tensor([[[6.9420e+04, 3.6455e-01],\n",
            "         [5.2806e-01, 3.8665e-01],\n",
            "         [3.2836e-01, 4.9239e-01]],\n",
            "\n",
            "        [[4.8510e-01, 6.0964e-01],\n",
            "         [8.7478e-01, 5.9135e-02],\n",
            "         [2.9402e-01, 2.6872e-01]]])\n",
            "\n",
            "\n"
          ]
        }
      ]
    }
  ]
}